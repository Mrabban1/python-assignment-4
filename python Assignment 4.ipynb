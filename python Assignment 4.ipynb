{
 "cells": [
  {
   "cell_type": "markdown",
   "id": "e21381cb-d124-4c89-83d8-3cd01eab16ae",
   "metadata": {},
   "source": [
    "1. What exactly is []?"
   ]
  },
  {
   "cell_type": "markdown",
   "id": "e7fcf298-8d99-44bb-9879-08778fd0bfe1",
   "metadata": {},
   "source": [
    "Ans: [] is empty list, like = []"
   ]
  },
  {
   "cell_type": "markdown",
   "id": "444c19d0-57e0-42ec-8f33-6620e6cb4cbf",
   "metadata": {},
   "source": [
    "2. In a list of values stored in a variable called spam, how would you assign the value &#39;hello&#39; as the\n",
    "third value? (Assume [2, 4, 6, 8, 10] are in spam.)"
   ]
  },
  {
   "cell_type": "code",
   "execution_count": 6,
   "id": "7fbba2b5-7235-4b11-a18a-39b04d584b72",
   "metadata": {},
   "outputs": [
    {
     "data": {
      "text/plain": [
       "[2, 4, 'hello', 8, 10]"
      ]
     },
     "execution_count": 6,
     "metadata": {},
     "output_type": "execute_result"
    }
   ],
   "source": [
    "spam = [2,4,6,8,10]\n",
    "spam[2] = 'hello'\n",
    "spam"
   ]
  },
  {
   "cell_type": "markdown",
   "id": "a209ce05-d7ef-4f71-a432-5a0b26e1420f",
   "metadata": {},
   "source": [
    "Let&#39;s pretend the spam includes the list [&#39;a&#39;, &#39;b&#39;, &#39;c&#39;, &#39;d&#39;] for the next three queries."
   ]
  },
  {
   "cell_type": "markdown",
   "id": "dc186032-1723-4b4c-9984-a2ecc83de345",
   "metadata": {},
   "source": [
    "3. What is the value of spam[int(int(&#39;3&#39; * 2) / 11)]?"
   ]
  },
  {
   "cell_type": "code",
   "execution_count": 10,
   "id": "5ad43430-40fc-4c8c-89aa-3f5e0b212161",
   "metadata": {},
   "outputs": [
    {
     "data": {
      "text/plain": [
       "'d'"
      ]
     },
     "execution_count": 10,
     "metadata": {},
     "output_type": "execute_result"
    }
   ],
   "source": [
    "spam = ['a','b','c','d']\n",
    "spam[int(int('3' * 2)/11)]"
   ]
  },
  {
   "cell_type": "markdown",
   "id": "a56621d6-85f8-4aea-b8aa-24067bd8efb0",
   "metadata": {},
   "source": [
    "4. What is the value of spam[-1]?"
   ]
  },
  {
   "cell_type": "code",
   "execution_count": 13,
   "id": "c7478c2e-09c2-44bd-be3f-7258036409bd",
   "metadata": {},
   "outputs": [
    {
     "data": {
      "text/plain": [
       "'d'"
      ]
     },
     "execution_count": 13,
     "metadata": {},
     "output_type": "execute_result"
    }
   ],
   "source": [
    "spam[-1]"
   ]
  },
  {
   "cell_type": "markdown",
   "id": "6e238cb2-6e21-4003-9431-e90e998b61f4",
   "metadata": {},
   "source": [
    "5. What is the value of spam[:2]?"
   ]
  },
  {
   "cell_type": "code",
   "execution_count": 16,
   "id": "37b511c4-03ab-4a49-a117-943a0c252b1b",
   "metadata": {},
   "outputs": [
    {
     "data": {
      "text/plain": [
       "['a', 'b']"
      ]
     },
     "execution_count": 16,
     "metadata": {},
     "output_type": "execute_result"
    }
   ],
   "source": [
    "spam[:2]"
   ]
  },
  {
   "cell_type": "markdown",
   "id": "ad44e7f8-f874-408d-8205-59b5c329fb53",
   "metadata": {},
   "source": [
    "Let&#39;s pretend bacon has the list [3.14, &#39;cat,&#39; 11, &#39;cat,&#39; True] for the next three questions."
   ]
  },
  {
   "cell_type": "markdown",
   "id": "eb29fcad-9d98-4ad0-8a88-d9dbec107611",
   "metadata": {},
   "source": [
    "6. What is the value of bacon.index(&#39;cat&#39;)?"
   ]
  },
  {
   "cell_type": "code",
   "execution_count": 21,
   "id": "1434eb3a-ecba-4211-b395-45bf06bcd489",
   "metadata": {},
   "outputs": [
    {
     "data": {
      "text/plain": [
       "1"
      ]
     },
     "execution_count": 21,
     "metadata": {},
     "output_type": "execute_result"
    }
   ],
   "source": [
    "bacon = [3.14,'cat',11,'cat', True]\n",
    "bacon.index('cat')"
   ]
  },
  {
   "cell_type": "markdown",
   "id": "b6210ce2-33f9-455b-bc0a-4b72855bca29",
   "metadata": {},
   "source": [
    "7. How does bacon.append(99) change the look of the list value in bacon?"
   ]
  },
  {
   "cell_type": "code",
   "execution_count": 26,
   "id": "0a9d037f-09be-4e58-a5e6-dccf705d4667",
   "metadata": {},
   "outputs": [
    {
     "data": {
      "text/plain": [
       "[3.14, 'cat', 11, 'cat', True, 99]"
      ]
     },
     "execution_count": 26,
     "metadata": {},
     "output_type": "execute_result"
    }
   ],
   "source": [
    "bacon = [3.14,'cat',11,'cat', True]\n",
    "bacon.append(99)\n",
    "bacon"
   ]
  },
  {
   "cell_type": "markdown",
   "id": "78b1b12c-01ef-45ac-866c-e4a4e016456d",
   "metadata": {},
   "source": [
    "8. How does bacon.remove(&#39;cat&#39;) change the look of the list in bacon?"
   ]
  },
  {
   "cell_type": "code",
   "execution_count": 29,
   "id": "8ce75436-1967-43f4-bad2-1e27d55dfe96",
   "metadata": {},
   "outputs": [
    {
     "data": {
      "text/plain": [
       "[3.14, 11, 'cat', True]"
      ]
     },
     "execution_count": 29,
     "metadata": {},
     "output_type": "execute_result"
    }
   ],
   "source": [
    "bacon = [3.14,'cat',11,'cat', True]\n",
    "bacon.remove('cat')\n",
    "bacon"
   ]
  },
  {
   "cell_type": "markdown",
   "id": "dde800ba-afe6-47cb-a1df-74e9411d53b9",
   "metadata": {},
   "source": [
    "9. What are the list concatenation and list replication operators?"
   ]
  },
  {
   "cell_type": "markdown",
   "id": "c43b04b2-8f9b-42da-be19-4d902543c6e3",
   "metadata": {},
   "source": [
    "Ans: (+) is the list concatenation and (*) is the list replication operator"
   ]
  },
  {
   "cell_type": "code",
   "execution_count": 33,
   "id": "1465082c-975b-433e-a30c-57076f38faa9",
   "metadata": {},
   "outputs": [
    {
     "data": {
      "text/plain": [
       "[2, 4, 1, 3]"
      ]
     },
     "execution_count": 33,
     "metadata": {},
     "output_type": "execute_result"
    }
   ],
   "source": [
    "#list concatenation\n",
    "\n",
    "a = [2,4]\n",
    "b= [1,3]\n",
    "a+b"
   ]
  },
  {
   "cell_type": "code",
   "execution_count": 37,
   "id": "eb798f37-bb97-4188-856b-ddf681d4c11c",
   "metadata": {},
   "outputs": [
    {
     "data": {
      "text/plain": [
       "[1, 3, 1, 3]"
      ]
     },
     "execution_count": 37,
     "metadata": {},
     "output_type": "execute_result"
    }
   ],
   "source": [
    "# replication list operator\n",
    "b*2"
   ]
  },
  {
   "cell_type": "markdown",
   "id": "01fa8a1b-fbd6-4335-ba0e-c36bae451c60",
   "metadata": {},
   "source": [
    "10. What is difference between the list methods append() and insert()?"
   ]
  },
  {
   "cell_type": "markdown",
   "id": "60dcfe81-dfa4-48f8-b90b-d553b9a54db5",
   "metadata": {},
   "source": [
    "Ans: append() object to the end of the list\n",
    "\n",
    "insert() insert object before index"
   ]
  },
  {
   "cell_type": "code",
   "execution_count": 45,
   "id": "ae0df67c-c36b-40b7-b840-a3f7d4f38e72",
   "metadata": {},
   "outputs": [
    {
     "data": {
      "text/plain": [
       "[3.14, 'rabban', 7, 9, 99]"
      ]
     },
     "execution_count": 45,
     "metadata": {},
     "output_type": "execute_result"
    }
   ],
   "source": [
    "#append\n",
    "my_list = [3.14,'rabban', 7,9]\n",
    "my_list.append(99)\n",
    "my_list\n"
   ]
  },
  {
   "cell_type": "code",
   "execution_count": 59,
   "id": "2dd70f17-9c58-4881-a19e-1d30aff5af40",
   "metadata": {},
   "outputs": [
    {
     "data": {
      "text/plain": [
       "[5, 6, 8, 7, 9]"
      ]
     },
     "execution_count": 59,
     "metadata": {},
     "output_type": "execute_result"
    }
   ],
   "source": [
    "my_list1 = [5,6,7,9]\n",
    "my_list1.insert(2,8)\n",
    "my_list1"
   ]
  },
  {
   "cell_type": "markdown",
   "id": "cefeb43b-eecd-4e41-a78a-4261106c8f0d",
   "metadata": {},
   "source": [
    "11. What are the two methods for removing items from a list?"
   ]
  },
  {
   "cell_type": "code",
   "execution_count": 62,
   "id": "474020aa-3754-4edc-9e8c-593001bfb4e7",
   "metadata": {},
   "outputs": [
    {
     "data": {
      "text/plain": [
       "[3.14, 7, 9]"
      ]
     },
     "execution_count": 62,
     "metadata": {},
     "output_type": "execute_result"
    }
   ],
   "source": [
    "my_list = [3.14,'rabban', 7,9]  #using remove function\n",
    "my_list.remove('rabban')\n",
    "my_list"
   ]
  },
  {
   "cell_type": "code",
   "execution_count": 64,
   "id": "47129bd0-9bca-46f4-b9bd-e322ac067832",
   "metadata": {},
   "outputs": [
    {
     "data": {
      "text/plain": [
       "[3.14, 'rabban', 7]"
      ]
     },
     "execution_count": 64,
     "metadata": {},
     "output_type": "execute_result"
    }
   ],
   "source": [
    "my_list = [3.14,'rabban', 7,9]   #using pop function\n",
    "my_list.pop()\n",
    "my_list"
   ]
  },
  {
   "cell_type": "markdown",
   "id": "54ff1d93-5016-4476-8e6f-8a67bedfd5c9",
   "metadata": {},
   "source": [
    "12. Describe how list values and string values are identical."
   ]
  },
  {
   "cell_type": "markdown",
   "id": "08558b91-003b-44e7-81a3-62a959303d31",
   "metadata": {},
   "source": [
    "Ans: 1.Both list and string passed through len()\n",
    "\n",
    "2. Have index and slice\n",
    "\n",
    "3.can be used in for loops.\n",
    "\n",
    "4.can be used in in and not in operator,"
   ]
  },
  {
   "cell_type": "markdown",
   "id": "fae725ee-a7f8-4d4b-b934-c6272d5157e6",
   "metadata": {},
   "source": [
    "13. What&#39;s the difference between tuples and lists?"
   ]
  },
  {
   "cell_type": "markdown",
   "id": "a480521f-5d7e-4aa7-8d02-b23a93de8459",
   "metadata": {},
   "source": [
    "Ans: List: list are mutable they can add value remove or changed  the value\n",
    "\n",
    "tuples: tuples are immutable they cannot change or edit anything."
   ]
  },
  {
   "cell_type": "markdown",
   "id": "90c72651-51ab-4601-8a6f-72343e04cb19",
   "metadata": {},
   "source": [
    "14. How do you type a tuple value that only contains the integer 42?"
   ]
  },
  {
   "cell_type": "code",
   "execution_count": 71,
   "id": "74437042-6afb-4899-ae34-4243209beaa8",
   "metadata": {},
   "outputs": [
    {
     "data": {
      "text/plain": [
       "42"
      ]
     },
     "execution_count": 71,
     "metadata": {},
     "output_type": "execute_result"
    }
   ],
   "source": [
    "tuple = (42)\n",
    "tuple"
   ]
  },
  {
   "cell_type": "markdown",
   "id": "c45030a5-b378-48b3-9b96-c53e14a7a950",
   "metadata": {},
   "source": [
    "15. How do you get a list value&#39;s tuple form? How do you get a tuple value&#39;s list form?"
   ]
  },
  {
   "cell_type": "code",
   "execution_count": 86,
   "id": "c414ace1-5377-4ccc-bfd4-0877e1d051d3",
   "metadata": {},
   "outputs": [
    {
     "ename": "TypeError",
     "evalue": "'int' object is not callable",
     "output_type": "error",
     "traceback": [
      "\u001b[1;31m---------------------------------------------------------------------------\u001b[0m",
      "\u001b[1;31mTypeError\u001b[0m                                 Traceback (most recent call last)",
      "Cell \u001b[1;32mIn[86], line 5\u001b[0m\n\u001b[0;32m      2\u001b[0m     \u001b[38;5;28;01mreturn\u001b[39;00m \u001b[38;5;28mtuple\u001b[39m(i \u001b[38;5;28;01mfor\u001b[39;00m i \u001b[38;5;129;01min\u001b[39;00m \u001b[38;5;28mlist\u001b[39m)\n\u001b[0;32m      4\u001b[0m \u001b[38;5;28mlist\u001b[39m \u001b[38;5;241m=\u001b[39m [\u001b[38;5;241m1\u001b[39m,\u001b[38;5;241m2\u001b[39m,\u001b[38;5;241m3\u001b[39m,\u001b[38;5;241m4\u001b[39m]\n\u001b[1;32m----> 5\u001b[0m \u001b[38;5;28mprint\u001b[39m(convert(\u001b[38;5;28mlist\u001b[39m))\n",
      "Cell \u001b[1;32mIn[86], line 2\u001b[0m, in \u001b[0;36mconvert\u001b[1;34m(list)\u001b[0m\n\u001b[0;32m      1\u001b[0m \u001b[38;5;28;01mdef\u001b[39;00m \u001b[38;5;21mconvert\u001b[39m(\u001b[38;5;28mlist\u001b[39m):\n\u001b[1;32m----> 2\u001b[0m     \u001b[38;5;28;01mreturn\u001b[39;00m \u001b[38;5;28mtuple\u001b[39m(i \u001b[38;5;28;01mfor\u001b[39;00m i \u001b[38;5;129;01min\u001b[39;00m \u001b[38;5;28mlist\u001b[39m)\n",
      "\u001b[1;31mTypeError\u001b[0m: 'int' object is not callable"
     ]
    }
   ],
   "source": [
    "def convert(list):\n",
    "    return tuple(i for i in list)\n",
    "\n",
    "list = [1,2,3,4]\n",
    "print(convert(list))"
   ]
  },
  {
   "cell_type": "markdown",
   "id": "7dcf0d70-291b-4741-9404-f939f2878ec4",
   "metadata": {},
   "source": [
    "16. Variables that &quot;contain&quot; list values are not necessarily lists themselves. Instead, what do they\n",
    "contain?"
   ]
  },
  {
   "cell_type": "markdown",
   "id": "af9e5091-24f3-4505-9943-eeafd782e7d6",
   "metadata": {},
   "source": [
    "Ans: They contain references to list values"
   ]
  },
  {
   "cell_type": "markdown",
   "id": "4d5da555-502c-4a12-b701-c65f76721c03",
   "metadata": {},
   "source": [
    "17. How do you distinguish between copy.copy() and copy.deepcopy()?"
   ]
  },
  {
   "cell_type": "markdown",
   "id": "b6b187ed-dad3-4dbe-94fe-cb4cad992820",
   "metadata": {},
   "source": [
    "Ans:The copy.copy() function will do shallow copy of a list\n",
    "\n",
    "copy.deepcopy() function will do deep copy of the list, only copy.deepcopy() will duplicated any list inside the list."
   ]
  },
  {
   "cell_type": "code",
   "execution_count": null,
   "id": "a634e4dc-1651-480a-9ac7-36be924c886a",
   "metadata": {},
   "outputs": [],
   "source": []
  }
 ],
 "metadata": {
  "kernelspec": {
   "display_name": "Python 3 (ipykernel)",
   "language": "python",
   "name": "python3"
  },
  "language_info": {
   "codemirror_mode": {
    "name": "ipython",
    "version": 3
   },
   "file_extension": ".py",
   "mimetype": "text/x-python",
   "name": "python",
   "nbconvert_exporter": "python",
   "pygments_lexer": "ipython3",
   "version": "3.12.4"
  }
 },
 "nbformat": 4,
 "nbformat_minor": 5
}
